{
 "cells": [
  {
   "cell_type": "code",
   "execution_count": 2,
   "metadata": {},
   "outputs": [],
   "source": [
    "import tensorflow as tf\n",
    "\n",
    "gpu_options = tf.GPUOptions(visible_device_list=\"3\")\n",
    "config = tf.ConfigProto(allow_soft_placement=True, log_device_placement=True, device_count={'GPU': 1}, gpu_options=gpu_options)\n",
    "config.gpu_options.per_process_gpu_memory_fraction = 0.25\n",
    "sess = tf.Session(config=config)\n"
   ]
  },
  {
   "cell_type": "code",
   "execution_count": 3,
   "metadata": {},
   "outputs": [],
   "source": [
    "import numpy as np"
   ]
  },
  {
   "cell_type": "code",
   "execution_count": 4,
   "metadata": {},
   "outputs": [
    {
     "name": "stdout",
     "output_type": "stream",
     "text": [
      "32\n",
      "[39]\n"
     ]
    }
   ],
   "source": [
    "W = np.array([1,2,3])\n",
    "x = np.array([4,5,6])\n",
    "MatMul = np.matmul(W,x)\n",
    "print(MatMul)\n",
    "b = np.array([7])\n",
    "Add = np.add(MatMul, b)\n",
    "print(Add)"
   ]
  },
  {
   "cell_type": "code",
   "execution_count": 5,
   "metadata": {},
   "outputs": [
    {
     "name": "stdout",
     "output_type": "stream",
     "text": [
      "Tensor(\"add:0\", shape=(), dtype=float32)\n",
      "Tensor(\"Const:0\", shape=(), dtype=float32)\n",
      "5.0\n"
     ]
    }
   ],
   "source": [
    "import tensorflow as tf\n",
    "\n",
    "a = tf.constant(3.0)\n",
    "b = tf.constant(2.0)\n",
    "\n",
    "output = a+b\n",
    "print(output)\n",
    "print(a)\n",
    "\n",
    "\n",
    "with tf.Session(config=config) as sess :\n",
    "    result = sess.run(output)\n",
    "    print(result)"
   ]
  },
  {
   "cell_type": "code",
   "execution_count": 6,
   "metadata": {},
   "outputs": [
    {
     "name": "stdout",
     "output_type": "stream",
     "text": [
      "[5. 7.]\n"
     ]
    }
   ],
   "source": [
    "a = tf.placeholder(tf.float32)\n",
    "b = tf.placeholder(tf.float32)\n",
    "\n",
    "output = a+b\n",
    "\n",
    "with tf.Session(config=config) as sess:\n",
    "    result = sess.run(output, feed_dict= {\n",
    "        a:[3.0, 4.0],\n",
    "        b:[2.0, 3.0]\n",
    "    })\n",
    "    print(result)"
   ]
  },
  {
   "cell_type": "code",
   "execution_count": 11,
   "metadata": {},
   "outputs": [
    {
     "name": "stdout",
     "output_type": "stream",
     "text": [
      "5.0\n",
      "7.0\n",
      "11.0\n",
      "19.0\n"
     ]
    }
   ],
   "source": [
    "a = tf.placeholder(tf.float32)\n",
    "b = tf.Variable(1.0)\n",
    "\n",
    "output = a+tf.assign(b, b*2)\n",
    "\n",
    "with tf.Session(config=config) as sess:\n",
    "    sess.run(tf.global_variables_initializer())\n",
    "    \n",
    "    print(sess.run(output, feed_dict={a:3.0}))\n",
    "    print(sess.run(output, feed_dict={a:3.0}))\n",
    "    print(sess.run(output, feed_dict={a:3.0})) \n",
    "    print(sess.run(output, feed_dict={a:3.0}))        "
   ]
  },
  {
   "cell_type": "code",
   "execution_count": 8,
   "metadata": {},
   "outputs": [],
   "source": [
    "tf.reset_default_graph()"
   ]
  },
  {
   "cell_type": "code",
   "execution_count": 7,
   "metadata": {},
   "outputs": [
    {
     "name": "stdout",
     "output_type": "stream",
     "text": [
      "[-1.5 -0.5 -0.5  0.5]\n"
     ]
    }
   ],
   "source": [
    "DATA_X1 = [0,0,1,1]\n",
    "DATA_X2 = [0,1,0,1]\n",
    "\n",
    "W1 = tf.constant(1.0)\n",
    "W2 = tf.constant(1.0)\n",
    "B = tf.constant(-1.5)\n",
    "\n",
    "X1 = tf.placeholder(tf.float32)\n",
    "X2 = tf.placeholder(tf.float32)\n",
    "\n",
    "output = X1*W1 + X2*W2 + B\n",
    "\n",
    "with tf.Session(config=config) as sess:\n",
    "    result = sess.run(output, feed_dict={X1:DATA_X1, X2:DATA_X2})\n",
    "    print(result)"
   ]
  },
  {
   "cell_type": "code",
   "execution_count": 8,
   "metadata": {},
   "outputs": [],
   "source": [
    "tf.reset_default_graph()"
   ]
  },
  {
   "cell_type": "code",
   "execution_count": 9,
   "metadata": {},
   "outputs": [],
   "source": [
    "DATA_X = [[0,0],[0,1],[1,0],[1,1]]\n",
    "\n",
    "W = tf.constant([[1.0], [1.0]])\n",
    "B = tf.constant(-1.5)\n",
    "\n",
    "X = tf.placeholder(tf.float32)\n",
    "\n",
    "output = tf.matmul(X,W) + B\n",
    "\n"
   ]
  },
  {
   "cell_type": "code",
   "execution_count": 15,
   "metadata": {},
   "outputs": [
    {
     "name": "stdout",
     "output_type": "stream",
     "text": [
      "[[-1.5]\n",
      " [-0.5]\n",
      " [-0.5]\n",
      " [ 0.5]]\n"
     ]
    }
   ],
   "source": [
    "with tf.Session(config=config) as sess:\n",
    "    result = sess.run(output, feed_dict={X:DATA_X})\n",
    "    print(result)"
   ]
  },
  {
   "cell_type": "code",
   "execution_count": 10,
   "metadata": {},
   "outputs": [
    {
     "name": "stdout",
     "output_type": "stream",
     "text": [
      "[[0.]\n",
      " [1.]\n",
      " [1.]\n",
      " [0.]]\n"
     ]
    }
   ],
   "source": [
    "tf.reset_default_graph()\n",
    "def hard_limit(x):\n",
    "    cond = tf.less(x, tf.zeros(tf.shape(x)))\n",
    "    return tf.where(cond, tf.zeros(tf.shape(x)), tf.ones(tf.shape(x)))\n",
    "\n",
    "DATA_X = [[0,0], [0,1], [1,0], [1,1]]\n",
    "\n",
    "X = tf.placeholder(tf.float32)\n",
    "\n",
    "W1 = tf.Variable([[1.0,1.0], [1.0,1.0]])\n",
    "B1 = tf.Variable([-1.5, -0.5])\n",
    "\n",
    "W2 = tf.Variable([[-1.0], [1.0]])\n",
    "B2 = tf.Variable(-0.5)\n",
    "\n",
    "output = hard_limit(tf.matmul(hard_limit(tf.matmul(X,W1) + B1), W2)+B2)\n",
    "\n",
    "with tf.Session(config=config) as sess:\n",
    "    sess.run(tf.global_variables_initializer())\n",
    "    \n",
    "    result = sess.run(output, feed_dict={X:DATA_X})\n",
    "    print(result)"
   ]
  },
  {
   "cell_type": "code",
   "execution_count": 13,
   "metadata": {},
   "outputs": [
    {
     "name": "stdout",
     "output_type": "stream",
     "text": [
      "0 [0.7543636] [0.76661515] [0.7277197] [0.7374069]\n",
      "1000 [0.49592787] [0.54351014] [0.47174218] [0.49402502]\n",
      "2000 [0.4164354] [0.70603126] [0.43051285] [0.42837512]\n",
      "3000 [0.18927756] [0.87152493] [0.7236414] [0.15514301]\n",
      "4000 [0.07695757] [0.93893933] [0.89234] [0.06285034]\n",
      "5000 [0.04493646] [0.9623081] [0.93830496] [0.03705442]\n",
      "6000 [0.03115019] [0.9731784] [0.9575728] [0.02586218]\n",
      "7000 [0.02365844] [0.9793195] [0.96789694] [0.01973835]\n",
      "8000 [0.01899848] [0.98322874] [0.9742667] [0.01590921]\n",
      "9000 [0.01583661] [0.9859226] [0.9785674] [0.01330034]\n"
     ]
    }
   ],
   "source": [
    "tf.reset_default_graph()\n",
    "\n",
    "DATA_X = [[0,0], [0,1], [1,0], [1,1]]\n",
    "DATA_Y = [[0],[1],[1],[0]]\n",
    "\n",
    "X = tf.placeholder(tf.float32)\n",
    "Y = tf.placeholder(tf.float32)\n",
    "\n",
    "W1 = tf.Variable(tf.random_normal([2,2]))\n",
    "b1 = tf.Variable(tf.random_normal([2]))\n",
    "layer1 = tf.sigmoid(tf.matmul(X,W1) + b1 )\n",
    "\n",
    "W2 = tf.Variable(tf.random_normal([2,1]))\n",
    "b2 = tf.Variable(tf.random_normal([1]))\n",
    "output = tf.sigmoid(tf.matmul(layer1, W2) + b2)\n",
    "\n",
    "cost = -tf.reduce_mean(Y*tf.log(output) + (1-Y) * tf.log(1-output))\n",
    "train = tf.train.GradientDescentOptimizer(learning_rate=0.1).minimize(cost)\n",
    "\n",
    "with tf.Session(config=config) as sess:\n",
    "    sess.run(tf.global_variables_initializer())\n",
    "    \n",
    "    for epoch in range(10000):\n",
    "        sess.run(train,feed_dict = {X: DATA_X, Y:DATA_Y})\n",
    "        if epoch % 1000 == 0:\n",
    "            print(epoch, *sess.run(output, feed_dict={X:DATA_X, Y:DATA_Y}))"
   ]
  }
 ],
 "metadata": {
  "kernelspec": {
   "display_name": "Python 3",
   "language": "python",
   "name": "python3"
  },
  "language_info": {
   "codemirror_mode": {
    "name": "ipython",
    "version": 3
   },
   "file_extension": ".py",
   "mimetype": "text/x-python",
   "name": "python",
   "nbconvert_exporter": "python",
   "pygments_lexer": "ipython3",
   "version": "3.6.4"
  }
 },
 "nbformat": 4,
 "nbformat_minor": 2
}
